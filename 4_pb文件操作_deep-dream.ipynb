{
 "cells": [
  {
   "cell_type": "markdown",
   "metadata": {},
   "source": [
    "# pb文件 可以事先将模型导入到pd文件中 需要的时候导出"
   ]
  },
  {
   "cell_type": "code",
   "execution_count": 1,
   "metadata": {},
   "outputs": [
    {
     "name": "stderr",
     "output_type": "stream",
     "text": [
      "I:\\Anaconda3\\lib\\site-packages\\h5py\\__init__.py:34: FutureWarning: Conversion of the second argument of issubdtype from `float` to `np.floating` is deprecated. In future, it will be treated as `np.float64 == np.dtype(float).type`.\n",
      "  from ._conv import register_converters as _register_converters\n"
     ]
    }
   ],
   "source": [
    "import tensorflow as tf\n",
    "import numpy as np"
   ]
  },
  {
   "cell_type": "markdown",
   "metadata": {},
   "source": [
    "## 下面是使用deep dream生成 224*224的图片"
   ]
  },
  {
   "cell_type": "code",
   "execution_count": 1,
   "metadata": {
    "collapsed": true
   },
   "outputs": [],
   "source": [
    "model_fn = 'tensorflow_inception_graph.pb'"
   ]
  },
  {
   "cell_type": "code",
   "execution_count": null,
   "metadata": {
    "collapsed": true
   },
   "outputs": [],
   "source": [
    "with tf.gfile.FastGFile(model_fn , 'rb') as f:\n",
    "    graph_def = tf.GraphDef()\n",
    "    graph_def.ParseFromString(f.read())"
   ]
  },
  {
   "cell_type": "code",
   "execution_count": null,
   "metadata": {
    "collapsed": true
   },
   "outputs": [],
   "source": [
    "t_input = tf.placeholder(np.float32 , name='input') #导入的时候需要给网络指定一个输入图像\n",
    "\n",
    "imagenet_mean = 117.0 #inception模型已经减去均值\n",
    "\n",
    "t_preprocessed = tf.expand_dims(t_input - imagenet_mean , 0) #图片RGB减去均值\n",
    "\n",
    "tf.import_graph_def(graph_def , {'input':t_preprocessed}) #导入模型"
   ]
  },
  {
   "cell_type": "code",
   "execution_count": null,
   "metadata": {
    "collapsed": true
   },
   "outputs": [],
   "source": [
    "layers = [op.name for op in graph_def.get_operations() if op.type == 'Conv2D' and 'import/' in op.name]\n",
    "\n",
    "print(len(layers)) #多少层\n",
    "\n",
    "#后面将最大化上面的卷积层某一个通道的平均值 以达到生成图像的目的\n",
    "name = 'mixed4d_3x3_bottleneck_pre_relu'\n",
    "\n",
    "#输出一个卷积层的形状\n",
    "graph_def.get_tensor_by_name('import/'+name+':0').get_shape()\n",
    "#>>>(? ? ? 144)"
   ]
  },
  {
   "cell_type": "code",
   "execution_count": null,
   "metadata": {
    "collapsed": true
   },
   "outputs": [],
   "source": [
    "name = 'mixed4d_3x3_bottleneck_pre_relu'\n",
    "channel = 139 #任意选择一个通道进行最大化 最大化通道激活值 更新的不是网络权重 而是图像像素值\n",
    "\n",
    "layer_output = graph_df.get_tensor_by_name('input/%s:0' % name)\n",
    "\n",
    "#原始的图像噪声\n",
    "img_noise = np.random.uniform(size=(224,224,3)) + 100.0 #像素为100加噪声\n",
    "\n",
    "#渲染函数 img_noise表示图像的优化起点\n",
    "render_naive(layer_output[:,:,:,channel] , img_noise , iter_n=20)"
   ]
  },
  {
   "cell_type": "code",
   "execution_count": null,
   "metadata": {
    "collapsed": true
   },
   "outputs": [],
   "source": [
    "def render_naive(t_obj , img0 , iter_n=20 , step=1.0):\n",
    "    '''\n",
    "    渲染函数\n",
    "    '''\n",
    "    #优化目标\n",
    "    t_score = tf.reduce_mean(t_obj)\n",
    "    \n",
    "    #计算优化目标对输入图像的梯度\n",
    "    t_grad = tf.gradients(t_score , t_input)[0]\n",
    "    \n",
    "    #创建新图\n",
    "    img = img0.copy()\n",
    "    \n",
    "    for i in range(iter_n):\n",
    "        g , score = sess.run([t_grad , t_score] , feed_dict={t_input : img})\n",
    "        \n",
    "        #简单对梯度进行正则化处理\n",
    "        g /= g.std() + 1e-8\n",
    "        \n",
    "        img += g*step #应用到图像上\n",
    "        \n",
    "        print(score) #会观察到score逐渐变大"
   ]
  },
  {
   "cell_type": "markdown",
   "metadata": {},
   "source": [
    "# 向更大尺寸图片进发  \n",
    "## 上面生成的图片是224*224的 还可以生成更大的  \n",
    "## 但是存在显存被占用过多的问题  \n",
    "## 故每次不对整张图片优化 而是将图片分成几个部分  \n",
    "## 每次只对其中的一个部分做优化"
   ]
  },
  {
   "cell_type": "code",
   "execution_count": null,
   "metadata": {
    "collapsed": true
   },
   "outputs": [],
   "source": [
    "def calc_grad_tiled(img , t_grad , tile_size=512):\n",
    "    #每次只对tile_size*tile_size大小图像计算梯度\n",
    "    sz = tile_size\n",
    "    \n",
    "    h , w = img.shape[:2]\n",
    "    \n",
    "    sx , sy = np.random.randint(sz , size=2)\n",
    "    \n",
    "    #防止在tile的边缘产生边缘效应\n",
    "    img_shift = np.roll(img , sx , axis=1) #先在水平方向滚动 滚动距离随机\n",
    "    img_shift = np.roll(img , sy , axis=0) #后在垂直方向滚动 滚动距离随机\n",
    "    \n",
    "    grad = np.zeros_like(img)\n",
    "    \n",
    "    for y in range(0 , max(h-sz//2 , sz) , sz):\n",
    "        for x in range(0 , max(w - sz//2 , sz) , sz):\n",
    "            pass"
   ]
  },
  {
   "cell_type": "code",
   "execution_count": 2,
   "metadata": {},
   "outputs": [
    {
     "data": {
      "text/plain": [
       "213"
      ]
     },
     "execution_count": 2,
     "metadata": {},
     "output_type": "execute_result"
    }
   ],
   "source": [
    "np.random.randint(512)"
   ]
  },
  {
   "cell_type": "code",
   "execution_count": 4,
   "metadata": {},
   "outputs": [
    {
     "data": {
      "text/plain": [
       "array([1, 2])"
      ]
     },
     "execution_count": 4,
     "metadata": {},
     "output_type": "execute_result"
    }
   ],
   "source": [
    "np.roll([1,2],2)"
   ]
  },
  {
   "cell_type": "code",
   "execution_count": null,
   "metadata": {
    "collapsed": true
   },
   "outputs": [],
   "source": []
  }
 ],
 "metadata": {
  "kernelspec": {
   "display_name": "Python 3",
   "language": "python",
   "name": "python3"
  },
  "language_info": {
   "codemirror_mode": {
    "name": "ipython",
    "version": 3
   },
   "file_extension": ".py",
   "mimetype": "text/x-python",
   "name": "python",
   "nbconvert_exporter": "python",
   "pygments_lexer": "ipython3",
   "version": "3.6.2"
  }
 },
 "nbformat": 4,
 "nbformat_minor": 2
}
