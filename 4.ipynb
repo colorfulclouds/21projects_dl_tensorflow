{
 "cells": [
  {
   "cell_type": "markdown",
   "metadata": {},
   "source": [
    "# pb文件 可以事先将模型导入到pd文件中 需要的时候导出"
   ]
  },
  {
   "cell_type": "code",
   "execution_count": 2,
   "metadata": {},
   "outputs": [
    {
     "name": "stderr",
     "output_type": "stream",
     "text": [
      "I:\\Anaconda3\\lib\\site-packages\\h5py\\__init__.py:34: FutureWarning: Conversion of the second argument of issubdtype from `float` to `np.floating` is deprecated. In future, it will be treated as `np.float64 == np.dtype(float).type`.\n",
      "  from ._conv import register_converters as _register_converters\n"
     ]
    }
   ],
   "source": [
    "import tensorflow as tf\n",
    "import numpy as np"
   ]
  },
  {
   "cell_type": "code",
   "execution_count": 1,
   "metadata": {
    "collapsed": true
   },
   "outputs": [],
   "source": [
    "model_fn = 'tensorflow_inception_graph.pb'"
   ]
  },
  {
   "cell_type": "code",
   "execution_count": null,
   "metadata": {
    "collapsed": true
   },
   "outputs": [],
   "source": [
    "with tf.gfile.FastGFile(model_fn , 'rb') as f:\n",
    "    graph_def = tf.GraphDef()\n",
    "    graph_def.ParseFromString(f.read())"
   ]
  },
  {
   "cell_type": "code",
   "execution_count": null,
   "metadata": {
    "collapsed": true
   },
   "outputs": [],
   "source": [
    "t_input = tf.placeholder(np.float32 , name='input') #导入的时候需要给网络指定一个输入图像\n",
    "\n",
    "imagenet_mean = 117.0 #inception模型已经减去均值\n",
    "\n",
    "t_preprocessed = tf.expand_dims(t_input - imagenet_mean , 0) #图片RGB减去均值\n",
    "\n",
    "tf.import_graph_def(graph_def , {'input':t_preprocessed}) #导入模型"
   ]
  },
  {
   "cell_type": "code",
   "execution_count": null,
   "metadata": {
    "collapsed": true
   },
   "outputs": [],
   "source": [
    "layers = [op.name for op in graph_def.get_operations() if op.type == 'Conv2D' and 'import/' in op.name]\n",
    "\n",
    "print(len(layers)) #多少层\n",
    "\n",
    "#后面将最大化上面的卷积层某一个通道的平均值 以达到生成图像的目的\n",
    "name = 'mixed4d_3x3_bottleneck_pre_relu'\n",
    "\n",
    "#输出一个卷积层的形状\n",
    "graph_def.get_tensor_by_name('import/'+name+':0').get_shape()\n",
    "#>>>(? ? ? 144)"
   ]
  }
 ],
 "metadata": {
  "kernelspec": {
   "display_name": "Python 3",
   "language": "python",
   "name": "python3"
  },
  "language_info": {
   "codemirror_mode": {
    "name": "ipython",
    "version": 3
   },
   "file_extension": ".py",
   "mimetype": "text/x-python",
   "name": "python",
   "nbconvert_exporter": "python",
   "pygments_lexer": "ipython3",
   "version": "3.6.2"
  }
 },
 "nbformat": 4,
 "nbformat_minor": 2
}
